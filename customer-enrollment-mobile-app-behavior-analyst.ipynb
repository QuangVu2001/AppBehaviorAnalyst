{
 "cells": [
  {
   "cell_type": "code",
   "execution_count": 1,
   "id": "db2a7371",
   "metadata": {
    "_cell_guid": "b1076dfc-b9ad-4769-8c92-a6c4dae69d19",
    "_uuid": "8f2839f25d086af736a60e9eeb907d3b93b6e0e5",
    "execution": {
     "iopub.execute_input": "2023-03-11T08:01:16.793785Z",
     "iopub.status.busy": "2023-03-11T08:01:16.793042Z",
     "iopub.status.idle": "2023-03-11T08:01:16.825707Z",
     "shell.execute_reply": "2023-03-11T08:01:16.824175Z"
    },
    "papermill": {
     "duration": 0.049571,
     "end_time": "2023-03-11T08:01:16.828628",
     "exception": false,
     "start_time": "2023-03-11T08:01:16.779057",
     "status": "completed"
    },
    "tags": []
   },
   "outputs": [
    {
     "name": "stdout",
     "output_type": "stream",
     "text": [
      "/kaggle/input/appdata10/appdata10.csv\n",
      "/kaggle/input/appdata10/top_screens.csv\n"
     ]
    }
   ],
   "source": [
    "# This Python 3 environment comes with many helpful analytics libraries installed\n",
    "# It is defined by the kaggle/python Docker image: https://github.com/kaggle/docker-python\n",
    "# For example, here's several helpful packages to load\n",
    "\n",
    "import numpy as np # linear algebra\n",
    "import pandas as pd # data processing, CSV file I/O (e.g. pd.read_csv)\n",
    "\n",
    "# Input data files are available in the read-only \"../input/\" directory\n",
    "# For example, running this (by clicking run or pressing Shift+Enter) will list all files under the input directory\n",
    "\n",
    "import os\n",
    "for dirname, _, filenames in os.walk('/kaggle/input'):\n",
    "    for filename in filenames:\n",
    "        print(os.path.join(dirname, filename))\n",
    "\n",
    "# You can write up to 20GB to the current directory (/kaggle/working/) that gets preserved as output when you create a version using \"Save & Run All\" \n",
    "# You can also write temporary files to /kaggle/temp/, but they won't be saved outside of the current session"
   ]
  },
  {
   "cell_type": "markdown",
   "id": "3b466b86",
   "metadata": {
    "papermill": {
     "duration": 0.010018,
     "end_time": "2023-03-11T08:01:16.851018",
     "exception": false,
     "start_time": "2023-03-11T08:01:16.841000",
     "status": "completed"
    },
    "tags": []
   },
   "source": [
    "# EDA"
   ]
  },
  {
   "cell_type": "code",
   "execution_count": 2,
   "id": "321c07fb",
   "metadata": {
    "execution": {
     "iopub.execute_input": "2023-03-11T08:01:16.874723Z",
     "iopub.status.busy": "2023-03-11T08:01:16.873358Z",
     "iopub.status.idle": "2023-03-11T08:01:18.121595Z",
     "shell.execute_reply": "2023-03-11T08:01:18.119459Z"
    },
    "papermill": {
     "duration": 1.263102,
     "end_time": "2023-03-11T08:01:18.124600",
     "exception": false,
     "start_time": "2023-03-11T08:01:16.861498",
     "status": "completed"
    },
    "tags": []
   },
   "outputs": [],
   "source": [
    "import pandas as pd\n",
    "from dateutil import parser\n",
    "import matplotlib.pyplot as plt\n",
    "import numpy as np\n",
    "import seaborn as sn\n",
    "import time\n",
    "import pickle"
   ]
  },
  {
   "cell_type": "code",
   "execution_count": 3,
   "id": "a2232d6c",
   "metadata": {
    "execution": {
     "iopub.execute_input": "2023-03-11T08:01:18.148286Z",
     "iopub.status.busy": "2023-03-11T08:01:18.147963Z",
     "iopub.status.idle": "2023-03-11T08:01:18.153334Z",
     "shell.execute_reply": "2023-03-11T08:01:18.151892Z"
    },
    "papermill": {
     "duration": 0.019731,
     "end_time": "2023-03-11T08:01:18.156329",
     "exception": false,
     "start_time": "2023-03-11T08:01:18.136598",
     "status": "completed"
    },
    "tags": []
   },
   "outputs": [],
   "source": [
    "pd.set_option('display.max_columns', 12)\n",
    "pd.set_option('display.width', 1000)"
   ]
  },
  {
   "cell_type": "code",
   "execution_count": 4,
   "id": "be4976ec",
   "metadata": {
    "execution": {
     "iopub.execute_input": "2023-03-11T08:01:18.179752Z",
     "iopub.status.busy": "2023-03-11T08:01:18.179187Z",
     "iopub.status.idle": "2023-03-11T08:01:18.697963Z",
     "shell.execute_reply": "2023-03-11T08:01:18.696507Z"
    },
    "papermill": {
     "duration": 0.533302,
     "end_time": "2023-03-11T08:01:18.699971",
     "exception": false,
     "start_time": "2023-03-11T08:01:18.166669",
     "status": "completed"
    },
    "tags": []
   },
   "outputs": [
    {
     "data": {
      "text/html": [
       "<div>\n",
       "<style scoped>\n",
       "    .dataframe tbody tr th:only-of-type {\n",
       "        vertical-align: middle;\n",
       "    }\n",
       "\n",
       "    .dataframe tbody tr th {\n",
       "        vertical-align: top;\n",
       "    }\n",
       "\n",
       "    .dataframe thead th {\n",
       "        text-align: right;\n",
       "    }\n",
       "</style>\n",
       "<table border=\"1\" class=\"dataframe\">\n",
       "  <thead>\n",
       "    <tr style=\"text-align: right;\">\n",
       "      <th></th>\n",
       "      <th>user</th>\n",
       "      <th>first_open</th>\n",
       "      <th>dayofweek</th>\n",
       "      <th>hour</th>\n",
       "      <th>age</th>\n",
       "      <th>screen_list</th>\n",
       "      <th>numscreens</th>\n",
       "      <th>minigame</th>\n",
       "      <th>used_premium_feature</th>\n",
       "      <th>enrolled</th>\n",
       "      <th>enrolled_date</th>\n",
       "      <th>liked</th>\n",
       "    </tr>\n",
       "  </thead>\n",
       "  <tbody>\n",
       "    <tr>\n",
       "      <th>0</th>\n",
       "      <td>235136</td>\n",
       "      <td>2012-12-27 02:14:51.273</td>\n",
       "      <td>3</td>\n",
       "      <td>02:00:00</td>\n",
       "      <td>23</td>\n",
       "      <td>idscreen,joinscreen,Cycle,product_review,ScanP...</td>\n",
       "      <td>15</td>\n",
       "      <td>0</td>\n",
       "      <td>0</td>\n",
       "      <td>0</td>\n",
       "      <td>NaN</td>\n",
       "      <td>0</td>\n",
       "    </tr>\n",
       "    <tr>\n",
       "      <th>1</th>\n",
       "      <td>333588</td>\n",
       "      <td>2012-12-02 01:16:00.905</td>\n",
       "      <td>6</td>\n",
       "      <td>01:00:00</td>\n",
       "      <td>24</td>\n",
       "      <td>joinscreen,product_review,product_review2,Scan...</td>\n",
       "      <td>13</td>\n",
       "      <td>0</td>\n",
       "      <td>0</td>\n",
       "      <td>0</td>\n",
       "      <td>NaN</td>\n",
       "      <td>0</td>\n",
       "    </tr>\n",
       "    <tr>\n",
       "      <th>2</th>\n",
       "      <td>254414</td>\n",
       "      <td>2013-03-19 19:19:09.157</td>\n",
       "      <td>1</td>\n",
       "      <td>19:00:00</td>\n",
       "      <td>23</td>\n",
       "      <td>Splash,Cycle,Loan</td>\n",
       "      <td>3</td>\n",
       "      <td>0</td>\n",
       "      <td>1</td>\n",
       "      <td>0</td>\n",
       "      <td>NaN</td>\n",
       "      <td>1</td>\n",
       "    </tr>\n",
       "    <tr>\n",
       "      <th>3</th>\n",
       "      <td>234192</td>\n",
       "      <td>2013-07-05 16:08:46.354</td>\n",
       "      <td>4</td>\n",
       "      <td>16:00:00</td>\n",
       "      <td>28</td>\n",
       "      <td>product_review,Home,product_review,Loan3,Finan...</td>\n",
       "      <td>40</td>\n",
       "      <td>0</td>\n",
       "      <td>0</td>\n",
       "      <td>1</td>\n",
       "      <td>2013-07-05 16:11:49.513</td>\n",
       "      <td>0</td>\n",
       "    </tr>\n",
       "    <tr>\n",
       "      <th>4</th>\n",
       "      <td>51549</td>\n",
       "      <td>2013-02-26 18:50:48.661</td>\n",
       "      <td>1</td>\n",
       "      <td>18:00:00</td>\n",
       "      <td>31</td>\n",
       "      <td>idscreen,joinscreen,Cycle,Credit3Container,Sca...</td>\n",
       "      <td>32</td>\n",
       "      <td>0</td>\n",
       "      <td>0</td>\n",
       "      <td>1</td>\n",
       "      <td>2013-02-26 18:56:37.841</td>\n",
       "      <td>1</td>\n",
       "    </tr>\n",
       "  </tbody>\n",
       "</table>\n",
       "</div>"
      ],
      "text/plain": [
       "     user               first_open  dayofweek       hour  age                                        screen_list  numscreens  minigame  used_premium_feature  enrolled            enrolled_date  liked\n",
       "0  235136  2012-12-27 02:14:51.273          3   02:00:00   23  idscreen,joinscreen,Cycle,product_review,ScanP...          15         0                     0         0                      NaN      0\n",
       "1  333588  2012-12-02 01:16:00.905          6   01:00:00   24  joinscreen,product_review,product_review2,Scan...          13         0                     0         0                      NaN      0\n",
       "2  254414  2013-03-19 19:19:09.157          1   19:00:00   23                                  Splash,Cycle,Loan           3         0                     1         0                      NaN      1\n",
       "3  234192  2013-07-05 16:08:46.354          4   16:00:00   28  product_review,Home,product_review,Loan3,Finan...          40         0                     0         1  2013-07-05 16:11:49.513      0\n",
       "4   51549  2013-02-26 18:50:48.661          1   18:00:00   31  idscreen,joinscreen,Cycle,Credit3Container,Sca...          32         0                     0         1  2013-02-26 18:56:37.841      1"
      ]
     },
     "execution_count": 4,
     "metadata": {},
     "output_type": "execute_result"
    }
   ],
   "source": [
    "df = pd.read_csv('/kaggle/input/appdata10/appdata10.csv')\n",
    "df.head()"
   ]
  },
  {
   "cell_type": "code",
   "execution_count": 5,
   "id": "2367333a",
   "metadata": {
    "execution": {
     "iopub.execute_input": "2023-03-11T08:01:18.723326Z",
     "iopub.status.busy": "2023-03-11T08:01:18.722995Z",
     "iopub.status.idle": "2023-03-11T08:01:18.760930Z",
     "shell.execute_reply": "2023-03-11T08:01:18.760009Z"
    },
    "papermill": {
     "duration": 0.052238,
     "end_time": "2023-03-11T08:01:18.762980",
     "exception": false,
     "start_time": "2023-03-11T08:01:18.710742",
     "status": "completed"
    },
    "tags": []
   },
   "outputs": [
    {
     "name": "stdout",
     "output_type": "stream",
     "text": [
      "<class 'pandas.core.frame.DataFrame'>\n",
      "RangeIndex: 50000 entries, 0 to 49999\n",
      "Data columns (total 12 columns):\n",
      " #   Column                Non-Null Count  Dtype \n",
      "---  ------                --------------  ----- \n",
      " 0   user                  50000 non-null  int64 \n",
      " 1   first_open            50000 non-null  object\n",
      " 2   dayofweek             50000 non-null  int64 \n",
      " 3   hour                  50000 non-null  object\n",
      " 4   age                   50000 non-null  int64 \n",
      " 5   screen_list           50000 non-null  object\n",
      " 6   numscreens            50000 non-null  int64 \n",
      " 7   minigame              50000 non-null  int64 \n",
      " 8   used_premium_feature  50000 non-null  int64 \n",
      " 9   enrolled              50000 non-null  int64 \n",
      " 10  enrolled_date         31074 non-null  object\n",
      " 11  liked                 50000 non-null  int64 \n",
      "dtypes: int64(8), object(4)\n",
      "memory usage: 4.6+ MB\n"
     ]
    }
   ],
   "source": [
    "df.info()"
   ]
  },
  {
   "cell_type": "code",
   "execution_count": 6,
   "id": "ab1add97",
   "metadata": {
    "execution": {
     "iopub.execute_input": "2023-03-11T08:01:18.785922Z",
     "iopub.status.busy": "2023-03-11T08:01:18.784998Z",
     "iopub.status.idle": "2023-03-11T08:01:18.806146Z",
     "shell.execute_reply": "2023-03-11T08:01:18.804638Z"
    },
    "papermill": {
     "duration": 0.034959,
     "end_time": "2023-03-11T08:01:18.808371",
     "exception": false,
     "start_time": "2023-03-11T08:01:18.773412",
     "status": "completed"
    },
    "tags": []
   },
   "outputs": [
    {
     "data": {
      "text/plain": [
       "user                        0\n",
       "first_open                  0\n",
       "dayofweek                   0\n",
       "hour                        0\n",
       "age                         0\n",
       "screen_list                 0\n",
       "numscreens                  0\n",
       "minigame                    0\n",
       "used_premium_feature        0\n",
       "enrolled                    0\n",
       "enrolled_date           18926\n",
       "liked                       0\n",
       "dtype: int64"
      ]
     },
     "execution_count": 6,
     "metadata": {},
     "output_type": "execute_result"
    }
   ],
   "source": [
    "df.isna().sum()"
   ]
  },
  {
   "cell_type": "code",
   "execution_count": 7,
   "id": "1add8154",
   "metadata": {
    "execution": {
     "iopub.execute_input": "2023-03-11T08:01:18.832145Z",
     "iopub.status.busy": "2023-03-11T08:01:18.831051Z",
     "iopub.status.idle": "2023-03-11T08:01:18.860993Z",
     "shell.execute_reply": "2023-03-11T08:01:18.859330Z"
    },
    "papermill": {
     "duration": 0.044694,
     "end_time": "2023-03-11T08:01:18.863636",
     "exception": false,
     "start_time": "2023-03-11T08:01:18.818942",
     "status": "completed"
    },
    "tags": []
   },
   "outputs": [],
   "source": [
    "df[\"hour\"] = df.hour.str.slice(1, 3).astype(int)"
   ]
  },
  {
   "cell_type": "code",
   "execution_count": 8,
   "id": "3830e76a",
   "metadata": {
    "execution": {
     "iopub.execute_input": "2023-03-11T08:01:18.888253Z",
     "iopub.status.busy": "2023-03-11T08:01:18.887573Z",
     "iopub.status.idle": "2023-03-11T08:01:18.898477Z",
     "shell.execute_reply": "2023-03-11T08:01:18.897857Z"
    },
    "papermill": {
     "duration": 0.025065,
     "end_time": "2023-03-11T08:01:18.900092",
     "exception": false,
     "start_time": "2023-03-11T08:01:18.875027",
     "status": "completed"
    },
    "tags": []
   },
   "outputs": [
    {
     "data": {
      "text/html": [
       "<div>\n",
       "<style scoped>\n",
       "    .dataframe tbody tr th:only-of-type {\n",
       "        vertical-align: middle;\n",
       "    }\n",
       "\n",
       "    .dataframe tbody tr th {\n",
       "        vertical-align: top;\n",
       "    }\n",
       "\n",
       "    .dataframe thead th {\n",
       "        text-align: right;\n",
       "    }\n",
       "</style>\n",
       "<table border=\"1\" class=\"dataframe\">\n",
       "  <thead>\n",
       "    <tr style=\"text-align: right;\">\n",
       "      <th></th>\n",
       "      <th>user</th>\n",
       "      <th>first_open</th>\n",
       "      <th>dayofweek</th>\n",
       "      <th>hour</th>\n",
       "      <th>age</th>\n",
       "      <th>screen_list</th>\n",
       "      <th>numscreens</th>\n",
       "      <th>minigame</th>\n",
       "      <th>used_premium_feature</th>\n",
       "      <th>enrolled</th>\n",
       "      <th>enrolled_date</th>\n",
       "      <th>liked</th>\n",
       "    </tr>\n",
       "  </thead>\n",
       "  <tbody>\n",
       "    <tr>\n",
       "      <th>0</th>\n",
       "      <td>235136</td>\n",
       "      <td>2012-12-27 02:14:51.273</td>\n",
       "      <td>3</td>\n",
       "      <td>2</td>\n",
       "      <td>23</td>\n",
       "      <td>idscreen,joinscreen,Cycle,product_review,ScanP...</td>\n",
       "      <td>15</td>\n",
       "      <td>0</td>\n",
       "      <td>0</td>\n",
       "      <td>0</td>\n",
       "      <td>NaN</td>\n",
       "      <td>0</td>\n",
       "    </tr>\n",
       "    <tr>\n",
       "      <th>1</th>\n",
       "      <td>333588</td>\n",
       "      <td>2012-12-02 01:16:00.905</td>\n",
       "      <td>6</td>\n",
       "      <td>1</td>\n",
       "      <td>24</td>\n",
       "      <td>joinscreen,product_review,product_review2,Scan...</td>\n",
       "      <td>13</td>\n",
       "      <td>0</td>\n",
       "      <td>0</td>\n",
       "      <td>0</td>\n",
       "      <td>NaN</td>\n",
       "      <td>0</td>\n",
       "    </tr>\n",
       "    <tr>\n",
       "      <th>2</th>\n",
       "      <td>254414</td>\n",
       "      <td>2013-03-19 19:19:09.157</td>\n",
       "      <td>1</td>\n",
       "      <td>19</td>\n",
       "      <td>23</td>\n",
       "      <td>Splash,Cycle,Loan</td>\n",
       "      <td>3</td>\n",
       "      <td>0</td>\n",
       "      <td>1</td>\n",
       "      <td>0</td>\n",
       "      <td>NaN</td>\n",
       "      <td>1</td>\n",
       "    </tr>\n",
       "    <tr>\n",
       "      <th>3</th>\n",
       "      <td>234192</td>\n",
       "      <td>2013-07-05 16:08:46.354</td>\n",
       "      <td>4</td>\n",
       "      <td>16</td>\n",
       "      <td>28</td>\n",
       "      <td>product_review,Home,product_review,Loan3,Finan...</td>\n",
       "      <td>40</td>\n",
       "      <td>0</td>\n",
       "      <td>0</td>\n",
       "      <td>1</td>\n",
       "      <td>2013-07-05 16:11:49.513</td>\n",
       "      <td>0</td>\n",
       "    </tr>\n",
       "    <tr>\n",
       "      <th>4</th>\n",
       "      <td>51549</td>\n",
       "      <td>2013-02-26 18:50:48.661</td>\n",
       "      <td>1</td>\n",
       "      <td>18</td>\n",
       "      <td>31</td>\n",
       "      <td>idscreen,joinscreen,Cycle,Credit3Container,Sca...</td>\n",
       "      <td>32</td>\n",
       "      <td>0</td>\n",
       "      <td>0</td>\n",
       "      <td>1</td>\n",
       "      <td>2013-02-26 18:56:37.841</td>\n",
       "      <td>1</td>\n",
       "    </tr>\n",
       "  </tbody>\n",
       "</table>\n",
       "</div>"
      ],
      "text/plain": [
       "     user               first_open  dayofweek  hour  age                                        screen_list  numscreens  minigame  used_premium_feature  enrolled            enrolled_date  liked\n",
       "0  235136  2012-12-27 02:14:51.273          3     2   23  idscreen,joinscreen,Cycle,product_review,ScanP...          15         0                     0         0                      NaN      0\n",
       "1  333588  2012-12-02 01:16:00.905          6     1   24  joinscreen,product_review,product_review2,Scan...          13         0                     0         0                      NaN      0\n",
       "2  254414  2013-03-19 19:19:09.157          1    19   23                                  Splash,Cycle,Loan           3         0                     1         0                      NaN      1\n",
       "3  234192  2013-07-05 16:08:46.354          4    16   28  product_review,Home,product_review,Loan3,Finan...          40         0                     0         1  2013-07-05 16:11:49.513      0\n",
       "4   51549  2013-02-26 18:50:48.661          1    18   31  idscreen,joinscreen,Cycle,Credit3Container,Sca...          32         0                     0         1  2013-02-26 18:56:37.841      1"
      ]
     },
     "execution_count": 8,
     "metadata": {},
     "output_type": "execute_result"
    }
   ],
   "source": [
    "df.head()"
   ]
  },
  {
   "cell_type": "code",
   "execution_count": 9,
   "id": "bc7dcb92",
   "metadata": {
    "execution": {
     "iopub.execute_input": "2023-03-11T08:01:18.923304Z",
     "iopub.status.busy": "2023-03-11T08:01:18.922342Z",
     "iopub.status.idle": "2023-03-11T08:01:18.943021Z",
     "shell.execute_reply": "2023-03-11T08:01:18.941397Z"
    },
    "papermill": {
     "duration": 0.035169,
     "end_time": "2023-03-11T08:01:18.945595",
     "exception": false,
     "start_time": "2023-03-11T08:01:18.910426",
     "status": "completed"
    },
    "tags": []
   },
   "outputs": [
    {
     "data": {
      "text/plain": [
       "(50000, 7)"
      ]
     },
     "execution_count": 9,
     "metadata": {},
     "output_type": "execute_result"
    }
   ],
   "source": [
    "df_2 = df.copy().drop(columns = ['user', 'screen_list', 'enrolled_date',\n",
    "                                           'first_open', 'enrolled'])\n",
    "df_2.shape"
   ]
  },
  {
   "cell_type": "code",
   "execution_count": 10,
   "id": "a3fd2db5",
   "metadata": {
    "execution": {
     "iopub.execute_input": "2023-03-11T08:01:18.968557Z",
     "iopub.status.busy": "2023-03-11T08:01:18.968056Z",
     "iopub.status.idle": "2023-03-11T08:01:20.437687Z",
     "shell.execute_reply": "2023-03-11T08:01:20.436180Z"
    },
    "papermill": {
     "duration": 1.483443,
     "end_time": "2023-03-11T08:01:20.439654",
     "exception": false,
     "start_time": "2023-03-11T08:01:18.956211",
     "status": "completed"
    },
    "tags": []
   },
   "outputs": [
    {
     "data": {
      "image/png": "[encoded data removed]",
      "text/plain": [
       "<Figure size 1500x600 with 7 Axes>"
      ]
     },
     "metadata": {},
     "output_type": "display_data"
    }
   ],
   "source": [
    "f = plt.figure(figsize=(15,6))\n",
    "f.suptitle('Histograms of Numerical Columns', fontsize=15)\n",
    "\n",
    "for i in range(1, df_2.shape[1] + 1):    \n",
    "    plt.subplot(2, 4, i)\n",
    "    #get current plot axes\n",
    "    f = plt.gca()\n",
    "#     f.axes.get_yaxis().set_visible(False)\n",
    "    #set column name as title\n",
    "    f.set_title(df_2.columns.values[i - 1])\n",
    "\n",
    "    vals = np.size(df_2.iloc[:, i - 1].unique())\n",
    "    \n",
    "    plt.hist(df_2.iloc[:, i - 1], bins=vals, color='#3F5D7D')\n",
    "plt.tight_layout(rect=[0, 0.03, 1, 0.95])\n",
    "plt.savefig('app_data_hist.jpg')"
   ]
  },
  {
   "cell_type": "code",
   "execution_count": 11,
   "id": "ad7c4acb",
   "metadata": {
    "execution": {
     "iopub.execute_input": "2023-03-11T08:01:20.465693Z",
     "iopub.status.busy": "2023-03-11T08:01:20.465091Z",
     "iopub.status.idle": "2023-03-11T08:01:20.769514Z",
     "shell.execute_reply": "2023-03-11T08:01:20.768740Z"
    },
    "papermill": {
     "duration": 0.319987,
     "end_time": "2023-03-11T08:01:20.771317",
     "exception": false,
     "start_time": "2023-03-11T08:01:20.451330",
     "status": "completed"
    },
    "tags": []
   },
   "outputs": [
    {
     "data": {
      "image/png": "[encoded data removed]",
      "text/plain": [
       "<Figure size 1200x700 with 1 Axes>"
      ]
     },
     "metadata": {},
     "output_type": "display_data"
    }
   ],
   "source": [
    "df_2.corrwith(df.enrolled).plot.bar(figsize=(12, 7),\n",
    "                  title = 'Correlation with Reposnse Variable',\n",
    "                  fontsize = 10, rot = 0,\n",
    "                  grid = True)\n",
    "plt.savefig('/kaggle/working/app_data_corr.jpg')"
   ]
  },
  {
   "cell_type": "code",
   "execution_count": 12,
   "id": "2aa15b5c",
   "metadata": {
    "execution": {
     "iopub.execute_input": "2023-03-11T08:01:20.799155Z",
     "iopub.status.busy": "2023-03-11T08:01:20.798459Z",
     "iopub.status.idle": "2023-03-11T08:01:21.205409Z",
     "shell.execute_reply": "2023-03-11T08:01:21.203659Z"
    },
    "papermill": {
     "duration": 0.424577,
     "end_time": "2023-03-11T08:01:21.207636",
     "exception": false,
     "start_time": "2023-03-11T08:01:20.783059",
     "status": "completed"
    },
    "tags": []
   },
   "outputs": [
    {
     "name": "stderr",
     "output_type": "stream",
     "text": [
      "/opt/conda/lib/python3.7/site-packages/ipykernel_launcher.py:8: DeprecationWarning: `np.bool` is a deprecated alias for the builtin `bool`. To silence this warning, use `bool` by itself. Doing this will not modify any behavior and is safe. If you specifically wanted the numpy scalar type, use `np.bool_` here.\n",
      "Deprecated in NumPy 1.20; for more details and guidance: https://numpy.org/devdocs/release/1.20.0-notes.html#deprecations\n",
      "  \n"
     ]
    },
    {
     "data": {
      "image/png": "[encoded data removed]",
      "text/plain": [
       "<Figure size 1200x800 with 2 Axes>"
      ]
     },
     "metadata": {},
     "output_type": "display_data"
    }
   ],
   "source": [
    "## Correlation Matrix\n",
    "sn.set(style=\"dark\", font_scale=1.5)\n",
    "\n",
    "# Compute the correlation matrix\n",
    "corr = df_2.corr()\n",
    "\n",
    "# Generate a mask for the upper triangle\n",
    "mask = np.zeros_like(corr, dtype=np.bool) #return a zero array with same size as corr\n",
    "#set upper triangle as 0\n",
    "mask[np.triu_indices_from(mask)] = True #Return the indices for the upper-triangle of arr\n",
    "\n",
    "# Set up the matplotlib figure\n",
    "f, ax = plt.subplots(figsize=(12, 8))\n",
    "f.suptitle(\"Correlation Matrix\", fontsize = 15)\n",
    "\n",
    "# Generate a custom diverging colormap\n",
    "cmap = sn.diverging_palette(220, 50, n=12, as_cmap=True)\n",
    "\n",
    "# Draw the heatmap with the mask and correct aspect ratio\n",
    "hmap = sn.heatmap(corr, mask=mask, cmap=cmap, vmax=.3, center=0,\n",
    "            square=True, linewidths=.5, cbar_kws={\"shrink\": .5})\n",
    "hmap.set_xticklabels(hmap.get_xticklabels(), rotation=15, horizontalalignment='right')\n",
    "plt.savefig('app_data_corr_matrix.jpg')"
   ]
  },
  {
   "cell_type": "code",
   "execution_count": 13,
   "id": "0214d91d",
   "metadata": {
    "execution": {
     "iopub.execute_input": "2023-03-11T08:01:21.236532Z",
     "iopub.status.busy": "2023-03-11T08:01:21.236168Z",
     "iopub.status.idle": "2023-03-11T08:01:27.356130Z",
     "shell.execute_reply": "2023-03-11T08:01:27.354581Z"
    },
    "papermill": {
     "duration": 6.137521,
     "end_time": "2023-03-11T08:01:27.358939",
     "exception": false,
     "start_time": "2023-03-11T08:01:21.221418",
     "status": "completed"
    },
    "tags": []
   },
   "outputs": [],
   "source": [
    "df[\"first_open\"] = [parser.parse(row_date) for row_date in df[\"first_open\"]]\n",
    "\n",
    "df[\"enrolled_date\"] = [parser.parse(row_date) if isinstance(row_date, str) else row_date for row_date in df[\"enrolled_date\"]]"
   ]
  },
  {
   "cell_type": "code",
   "execution_count": 14,
   "id": "81a2a0e2",
   "metadata": {
    "execution": {
     "iopub.execute_input": "2023-03-11T08:01:27.385689Z",
     "iopub.status.busy": "2023-03-11T08:01:27.385379Z",
     "iopub.status.idle": "2023-03-11T08:01:27.394349Z",
     "shell.execute_reply": "2023-03-11T08:01:27.393050Z"
    },
    "papermill": {
     "duration": 0.025708,
     "end_time": "2023-03-11T08:01:27.397216",
     "exception": false,
     "start_time": "2023-03-11T08:01:27.371508",
     "status": "completed"
    },
    "tags": []
   },
   "outputs": [
    {
     "data": {
      "text/plain": [
       "user                             int64\n",
       "first_open              datetime64[ns]\n",
       "dayofweek                        int64\n",
       "hour                             int64\n",
       "age                              int64\n",
       "screen_list                     object\n",
       "numscreens                       int64\n",
       "minigame                         int64\n",
       "used_premium_feature             int64\n",
       "enrolled                         int64\n",
       "enrolled_date           datetime64[ns]\n",
       "liked                            int64\n",
       "dtype: object"
      ]
     },
     "execution_count": 14,
     "metadata": {},
     "output_type": "execute_result"
    }
   ],
   "source": [
    "df.dtypes"
   ]
  },
  {
   "cell_type": "code",
   "execution_count": 15,
   "id": "75a7080b",
   "metadata": {
    "execution": {
     "iopub.execute_input": "2023-03-11T08:01:27.423758Z",
     "iopub.status.busy": "2023-03-11T08:01:27.423442Z",
     "iopub.status.idle": "2023-03-11T08:01:27.434127Z",
     "shell.execute_reply": "2023-03-11T08:01:27.431933Z"
    },
    "papermill": {
     "duration": 0.02664,
     "end_time": "2023-03-11T08:01:27.436562",
     "exception": false,
     "start_time": "2023-03-11T08:01:27.409922",
     "status": "completed"
    },
    "tags": []
   },
   "outputs": [],
   "source": [
    "df[\"difference\"] = (df.enrolled_date - df.first_open).astype('timedelta64[h]')"
   ]
  },
  {
   "cell_type": "code",
   "execution_count": 16,
   "id": "c17cff08",
   "metadata": {
    "execution": {
     "iopub.execute_input": "2023-03-11T08:01:27.465961Z",
     "iopub.status.busy": "2023-03-11T08:01:27.465607Z",
     "iopub.status.idle": "2023-03-11T08:01:27.486900Z",
     "shell.execute_reply": "2023-03-11T08:01:27.485864Z"
    },
    "papermill": {
     "duration": 0.038685,
     "end_time": "2023-03-11T08:01:27.488930",
     "exception": false,
     "start_time": "2023-03-11T08:01:27.450245",
     "status": "completed"
    },
    "tags": []
   },
   "outputs": [
    {
     "data": {
      "text/html": [
       "<div>\n",
       "<style scoped>\n",
       "    .dataframe tbody tr th:only-of-type {\n",
       "        vertical-align: middle;\n",
       "    }\n",
       "\n",
       "    .dataframe tbody tr th {\n",
       "        vertical-align: top;\n",
       "    }\n",
       "\n",
       "    .dataframe thead th {\n",
       "        text-align: right;\n",
       "    }\n",
       "</style>\n",
       "<table border=\"1\" class=\"dataframe\">\n",
       "  <thead>\n",
       "    <tr style=\"text-align: right;\">\n",
       "      <th></th>\n",
       "      <th>user</th>\n",
       "      <th>first_open</th>\n",
       "      <th>dayofweek</th>\n",
       "      <th>hour</th>\n",
       "      <th>age</th>\n",
       "      <th>screen_list</th>\n",
       "      <th>...</th>\n",
       "      <th>minigame</th>\n",
       "      <th>used_premium_feature</th>\n",
       "      <th>enrolled</th>\n",
       "      <th>enrolled_date</th>\n",
       "      <th>liked</th>\n",
       "      <th>difference</th>\n",
       "    </tr>\n",
       "  </thead>\n",
       "  <tbody>\n",
       "    <tr>\n",
       "      <th>0</th>\n",
       "      <td>235136</td>\n",
       "      <td>2012-12-27 02:14:51.273</td>\n",
       "      <td>3</td>\n",
       "      <td>2</td>\n",
       "      <td>23</td>\n",
       "      <td>idscreen,joinscreen,Cycle,product_review,ScanP...</td>\n",
       "      <td>...</td>\n",
       "      <td>0</td>\n",
       "      <td>0</td>\n",
       "      <td>0</td>\n",
       "      <td>NaT</td>\n",
       "      <td>0</td>\n",
       "      <td>NaN</td>\n",
       "    </tr>\n",
       "    <tr>\n",
       "      <th>1</th>\n",
       "      <td>333588</td>\n",
       "      <td>2012-12-02 01:16:00.905</td>\n",
       "      <td>6</td>\n",
       "      <td>1</td>\n",
       "      <td>24</td>\n",
       "      <td>joinscreen,product_review,product_review2,Scan...</td>\n",
       "      <td>...</td>\n",
       "      <td>0</td>\n",
       "      <td>0</td>\n",
       "      <td>0</td>\n",
       "      <td>NaT</td>\n",
       "      <td>0</td>\n",
       "      <td>NaN</td>\n",
       "    </tr>\n",
       "    <tr>\n",
       "      <th>2</th>\n",
       "      <td>254414</td>\n",
       "      <td>2013-03-19 19:19:09.157</td>\n",
       "      <td>1</td>\n",
       "      <td>19</td>\n",
       "      <td>23</td>\n",
       "      <td>Splash,Cycle,Loan</td>\n",
       "      <td>...</td>\n",
       "      <td>0</td>\n",
       "      <td>1</td>\n",
       "      <td>0</td>\n",
       "      <td>NaT</td>\n",
       "      <td>1</td>\n",
       "      <td>NaN</td>\n",
       "    </tr>\n",
       "  </tbody>\n",
       "</table>\n",
       "<p>3 rows × 13 columns</p>\n",
       "</div>"
      ],
      "text/plain": [
       "     user              first_open  dayofweek  hour  age                                        screen_list  ...  minigame  used_premium_feature  enrolled  enrolled_date liked  difference\n",
       "0  235136 2012-12-27 02:14:51.273          3     2   23  idscreen,joinscreen,Cycle,product_review,ScanP...  ...         0                     0         0            NaT     0         NaN\n",
       "1  333588 2012-12-02 01:16:00.905          6     1   24  joinscreen,product_review,product_review2,Scan...  ...         0                     0         0            NaT     0         NaN\n",
       "2  254414 2013-03-19 19:19:09.157          1    19   23                                  Splash,Cycle,Loan  ...         0                     1         0            NaT     1         NaN\n",
       "\n",
       "[3 rows x 13 columns]"
      ]
     },
     "execution_count": 16,
     "metadata": {},
     "output_type": "execute_result"
    }
   ],
   "source": [
    "df.head(3)"
   ]
  },
  {
   "cell_type": "code",
   "execution_count": 17,
   "id": "47e12615",
   "metadata": {
    "execution": {
     "iopub.execute_input": "2023-03-11T08:01:27.520747Z",
     "iopub.status.busy": "2023-03-11T08:01:27.520381Z",
     "iopub.status.idle": "2023-03-11T08:01:27.716213Z",
     "shell.execute_reply": "2023-03-11T08:01:27.715188Z"
    },
    "papermill": {
     "duration": 0.214806,
     "end_time": "2023-03-11T08:01:27.718108",
     "exception": false,
     "start_time": "2023-03-11T08:01:27.503302",
     "status": "completed"
    },
    "tags": []
   },
   "outputs": [
    {
     "data": {
      "image/png": "[encoded data removed]",
      "text/plain": [
       "<Figure size 640x480 with 1 Axes>"
      ]
     },
     "metadata": {},
     "output_type": "display_data"
    }
   ],
   "source": [
    "response_hist = plt.hist(df[\"difference\"].dropna(), color='#3F5D7D')\n",
    "plt.title('Distribution of Time Difference between Installation and Enrollment')\n",
    "plt.show()"
   ]
  },
  {
   "cell_type": "code",
   "execution_count": 18,
   "id": "736e3051",
   "metadata": {
    "execution": {
     "iopub.execute_input": "2023-03-11T08:01:27.746905Z",
     "iopub.status.busy": "2023-03-11T08:01:27.746553Z",
     "iopub.status.idle": "2023-03-11T08:01:28.091518Z",
     "shell.execute_reply": "2023-03-11T08:01:28.090353Z"
    },
    "papermill": {
     "duration": 0.362506,
     "end_time": "2023-03-11T08:01:28.094248",
     "exception": false,
     "start_time": "2023-03-11T08:01:27.731742",
     "status": "completed"
    },
    "tags": []
   },
   "outputs": [
    {
     "data": {
      "image/png": "[encoded data removed]",
      "text/plain": [
       "<Figure size 640x480 with 1 Axes>"
      ]
     },
     "metadata": {},
     "output_type": "display_data"
    }
   ],
   "source": [
    "response_hist = plt.hist(df[\"difference\"].dropna(), color='red', range = [0, 100])\n",
    "plt.title('Distribution of Time Difference (first 100 h)')\n",
    "plt.show()"
   ]
  },
  {
   "cell_type": "code",
   "execution_count": 19,
   "id": "7aaa74c4",
   "metadata": {
    "execution": {
     "iopub.execute_input": "2023-03-11T08:01:28.124895Z",
     "iopub.status.busy": "2023-03-11T08:01:28.124548Z",
     "iopub.status.idle": "2023-03-11T08:01:28.136508Z",
     "shell.execute_reply": "2023-03-11T08:01:28.135137Z"
    },
    "papermill": {
     "duration": 0.029767,
     "end_time": "2023-03-11T08:01:28.138920",
     "exception": false,
     "start_time": "2023-03-11T08:01:28.109153",
     "status": "completed"
    },
    "tags": []
   },
   "outputs": [],
   "source": [
    "df.loc[df.difference > 48, 'enrolled'] = 0\n",
    "df = df.drop(columns=['enrolled_date', 'difference', 'first_open'])"
   ]
  },
  {
   "cell_type": "code",
   "execution_count": 20,
   "id": "5be188f2",
   "metadata": {
    "execution": {
     "iopub.execute_input": "2023-03-11T08:01:28.169508Z",
     "iopub.status.busy": "2023-03-11T08:01:28.169167Z",
     "iopub.status.idle": "2023-03-11T08:01:28.179305Z",
     "shell.execute_reply": "2023-03-11T08:01:28.178407Z"
    },
    "papermill": {
     "duration": 0.027701,
     "end_time": "2023-03-11T08:01:28.181115",
     "exception": false,
     "start_time": "2023-03-11T08:01:28.153414",
     "status": "completed"
    },
    "tags": []
   },
   "outputs": [
    {
     "data": {
      "text/html": [
       "<div>\n",
       "<style scoped>\n",
       "    .dataframe tbody tr th:only-of-type {\n",
       "        vertical-align: middle;\n",
       "    }\n",
       "\n",
       "    .dataframe tbody tr th {\n",
       "        vertical-align: top;\n",
       "    }\n",
       "\n",
       "    .dataframe thead th {\n",
       "        text-align: right;\n",
       "    }\n",
       "</style>\n",
       "<table border=\"1\" class=\"dataframe\">\n",
       "  <thead>\n",
       "    <tr style=\"text-align: right;\">\n",
       "      <th></th>\n",
       "      <th>user</th>\n",
       "      <th>dayofweek</th>\n",
       "      <th>hour</th>\n",
       "      <th>age</th>\n",
       "      <th>screen_list</th>\n",
       "      <th>numscreens</th>\n",
       "      <th>minigame</th>\n",
       "      <th>used_premium_feature</th>\n",
       "      <th>enrolled</th>\n",
       "      <th>liked</th>\n",
       "    </tr>\n",
       "  </thead>\n",
       "  <tbody>\n",
       "    <tr>\n",
       "      <th>0</th>\n",
       "      <td>235136</td>\n",
       "      <td>3</td>\n",
       "      <td>2</td>\n",
       "      <td>23</td>\n",
       "      <td>idscreen,joinscreen,Cycle,product_review,ScanP...</td>\n",
       "      <td>15</td>\n",
       "      <td>0</td>\n",
       "      <td>0</td>\n",
       "      <td>0</td>\n",
       "      <td>0</td>\n",
       "    </tr>\n",
       "    <tr>\n",
       "      <th>1</th>\n",
       "      <td>333588</td>\n",
       "      <td>6</td>\n",
       "      <td>1</td>\n",
       "      <td>24</td>\n",
       "      <td>joinscreen,product_review,product_review2,Scan...</td>\n",
       "      <td>13</td>\n",
       "      <td>0</td>\n",
       "      <td>0</td>\n",
       "      <td>0</td>\n",
       "      <td>0</td>\n",
       "    </tr>\n",
       "    <tr>\n",
       "      <th>2</th>\n",
       "      <td>254414</td>\n",
       "      <td>1</td>\n",
       "      <td>19</td>\n",
       "      <td>23</td>\n",
       "      <td>Splash,Cycle,Loan</td>\n",
       "      <td>3</td>\n",
       "      <td>0</td>\n",
       "      <td>1</td>\n",
       "      <td>0</td>\n",
       "      <td>1</td>\n",
       "    </tr>\n",
       "  </tbody>\n",
       "</table>\n",
       "</div>"
      ],
      "text/plain": [
       "     user  dayofweek  hour  age                                        screen_list  numscreens  minigame  used_premium_feature  enrolled  liked\n",
       "0  235136          3     2   23  idscreen,joinscreen,Cycle,product_review,ScanP...          15         0                     0         0      0\n",
       "1  333588          6     1   24  joinscreen,product_review,product_review2,Scan...          13         0                     0         0      0\n",
       "2  254414          1    19   23                                  Splash,Cycle,Loan           3         0                     1         0      1"
      ]
     },
     "execution_count": 20,
     "metadata": {},
     "output_type": "execute_result"
    }
   ],
   "source": [
    "df.head(3)"
   ]
  },
  {
   "cell_type": "code",
   "execution_count": 21,
   "id": "f238ab30",
   "metadata": {
    "execution": {
     "iopub.execute_input": "2023-03-11T08:01:28.214949Z",
     "iopub.status.busy": "2023-03-11T08:01:28.214323Z",
     "iopub.status.idle": "2023-03-11T08:01:28.234348Z",
     "shell.execute_reply": "2023-03-11T08:01:28.232709Z"
    },
    "papermill": {
     "duration": 0.039555,
     "end_time": "2023-03-11T08:01:28.236546",
     "exception": false,
     "start_time": "2023-03-11T08:01:28.196991",
     "status": "completed"
    },
    "tags": []
   },
   "outputs": [
    {
     "data": {
      "text/plain": [
       "array(['Loan2', 'location', 'Institutions', 'Credit3Container',\n",
       "       'VerifyPhone', 'BankVerification', 'VerifyDateOfBirth',\n",
       "       'ProfilePage', 'VerifyCountry', 'Cycle', 'idscreen',\n",
       "       'Credit3Dashboard', 'Loan3', 'CC1Category', 'Splash', 'Loan',\n",
       "       'CC1', 'RewardsContainer', 'Credit3', 'Credit1', 'EditProfile',\n",
       "       'Credit2', 'Finances', 'CC3', 'Saving9', 'Saving1', 'Alerts',\n",
       "       'Saving8', 'Saving10', 'Leaderboard', 'Saving4', 'VerifyMobile',\n",
       "       'VerifyHousing', 'RewardDetail', 'VerifyHousingAmount',\n",
       "       'ProfileMaritalStatus', 'ProfileChildren ', 'ProfileEducation',\n",
       "       'Saving7', 'ProfileEducationMajor', 'Rewards', 'AccountView',\n",
       "       'VerifyAnnualIncome', 'VerifyIncomeType', 'Saving2', 'Saving6',\n",
       "       'Saving2Amount', 'Saving5', 'ProfileJobTitle', 'Login',\n",
       "       'ProfileEmploymentLength', 'WebView', 'SecurityModal', 'Loan4',\n",
       "       'ResendToken', 'TransactionList', 'NetworkFailure', 'ListPicker'],\n",
       "      dtype=object)"
      ]
     },
     "execution_count": 21,
     "metadata": {},
     "output_type": "execute_result"
    }
   ],
   "source": [
    "df_screen = pd.read_csv(\"/kaggle/input/appdata10/top_screens.csv\").top_screens.values\n",
    "df_screen"
   ]
  },
  {
   "cell_type": "code",
   "execution_count": 22,
   "id": "e42bc9b9",
   "metadata": {
    "execution": {
     "iopub.execute_input": "2023-03-11T08:01:28.267453Z",
     "iopub.status.busy": "2023-03-11T08:01:28.266872Z",
     "iopub.status.idle": "2023-03-11T08:01:33.195739Z",
     "shell.execute_reply": "2023-03-11T08:01:33.194352Z"
    },
    "papermill": {
     "duration": 4.947224,
     "end_time": "2023-03-11T08:01:33.198153",
     "exception": false,
     "start_time": "2023-03-11T08:01:28.250929",
     "status": "completed"
    },
    "tags": []
   },
   "outputs": [],
   "source": [
    "# Mapping Screens to Fields\n",
    "df[\"screen_list\"] = df.screen_list.astype(str) + ','\n",
    "for sc in df_screen:\n",
    "    df[sc] = df.screen_list.str.contains(sc).astype(int)\n",
    "    df['screen_list'] = df.screen_list.str.replace(sc+\",\", \"\")"
   ]
  },
  {
   "cell_type": "code",
   "execution_count": 23,
   "id": "f643fa56",
   "metadata": {
    "execution": {
     "iopub.execute_input": "2023-03-11T08:01:33.232284Z",
     "iopub.status.busy": "2023-03-11T08:01:33.231966Z",
     "iopub.status.idle": "2023-03-11T08:01:33.247310Z",
     "shell.execute_reply": "2023-03-11T08:01:33.246405Z"
    },
    "papermill": {
     "duration": 0.034814,
     "end_time": "2023-03-11T08:01:33.249116",
     "exception": false,
     "start_time": "2023-03-11T08:01:33.214302",
     "status": "completed"
    },
    "tags": []
   },
   "outputs": [
    {
     "data": {
      "text/html": [
       "<div>\n",
       "<style scoped>\n",
       "    .dataframe tbody tr th:only-of-type {\n",
       "        vertical-align: middle;\n",
       "    }\n",
       "\n",
       "    .dataframe tbody tr th {\n",
       "        vertical-align: top;\n",
       "    }\n",
       "\n",
       "    .dataframe thead th {\n",
       "        text-align: right;\n",
       "    }\n",
       "</style>\n",
       "<table border=\"1\" class=\"dataframe\">\n",
       "  <thead>\n",
       "    <tr style=\"text-align: right;\">\n",
       "      <th></th>\n",
       "      <th>user</th>\n",
       "      <th>dayofweek</th>\n",
       "      <th>hour</th>\n",
       "      <th>age</th>\n",
       "      <th>screen_list</th>\n",
       "      <th>numscreens</th>\n",
       "      <th>...</th>\n",
       "      <th>SecurityModal</th>\n",
       "      <th>Loan4</th>\n",
       "      <th>ResendToken</th>\n",
       "      <th>TransactionList</th>\n",
       "      <th>NetworkFailure</th>\n",
       "      <th>ListPicker</th>\n",
       "    </tr>\n",
       "  </thead>\n",
       "  <tbody>\n",
       "    <tr>\n",
       "      <th>0</th>\n",
       "      <td>235136</td>\n",
       "      <td>3</td>\n",
       "      <td>2</td>\n",
       "      <td>23</td>\n",
       "      <td>joinscreen,product_review,ScanPreview,VerifyTo...</td>\n",
       "      <td>15</td>\n",
       "      <td>...</td>\n",
       "      <td>0</td>\n",
       "      <td>0</td>\n",
       "      <td>0</td>\n",
       "      <td>0</td>\n",
       "      <td>0</td>\n",
       "      <td>0</td>\n",
       "    </tr>\n",
       "    <tr>\n",
       "      <th>1</th>\n",
       "      <td>333588</td>\n",
       "      <td>6</td>\n",
       "      <td>1</td>\n",
       "      <td>24</td>\n",
       "      <td>joinscreen,product_review,product_review2,Scan...</td>\n",
       "      <td>13</td>\n",
       "      <td>...</td>\n",
       "      <td>0</td>\n",
       "      <td>0</td>\n",
       "      <td>0</td>\n",
       "      <td>0</td>\n",
       "      <td>0</td>\n",
       "      <td>0</td>\n",
       "    </tr>\n",
       "    <tr>\n",
       "      <th>2</th>\n",
       "      <td>254414</td>\n",
       "      <td>1</td>\n",
       "      <td>19</td>\n",
       "      <td>23</td>\n",
       "      <td></td>\n",
       "      <td>3</td>\n",
       "      <td>...</td>\n",
       "      <td>0</td>\n",
       "      <td>0</td>\n",
       "      <td>0</td>\n",
       "      <td>0</td>\n",
       "      <td>0</td>\n",
       "      <td>0</td>\n",
       "    </tr>\n",
       "    <tr>\n",
       "      <th>3</th>\n",
       "      <td>234192</td>\n",
       "      <td>4</td>\n",
       "      <td>16</td>\n",
       "      <td>28</td>\n",
       "      <td>product_review,Home,product_review,ReferralCon...</td>\n",
       "      <td>40</td>\n",
       "      <td>...</td>\n",
       "      <td>0</td>\n",
       "      <td>0</td>\n",
       "      <td>0</td>\n",
       "      <td>0</td>\n",
       "      <td>0</td>\n",
       "      <td>0</td>\n",
       "    </tr>\n",
       "    <tr>\n",
       "      <th>4</th>\n",
       "      <td>51549</td>\n",
       "      <td>1</td>\n",
       "      <td>18</td>\n",
       "      <td>31</td>\n",
       "      <td>joinscreen,ScanPreview,VerifySSN,Home,SelectIn...</td>\n",
       "      <td>32</td>\n",
       "      <td>...</td>\n",
       "      <td>0</td>\n",
       "      <td>0</td>\n",
       "      <td>0</td>\n",
       "      <td>0</td>\n",
       "      <td>0</td>\n",
       "      <td>0</td>\n",
       "    </tr>\n",
       "  </tbody>\n",
       "</table>\n",
       "<p>5 rows × 68 columns</p>\n",
       "</div>"
      ],
      "text/plain": [
       "     user  dayofweek  hour  age                                        screen_list  numscreens  ...  SecurityModal  Loan4  ResendToken  TransactionList  NetworkFailure  ListPicker\n",
       "0  235136          3     2   23  joinscreen,product_review,ScanPreview,VerifyTo...          15  ...              0      0            0                0               0           0\n",
       "1  333588          6     1   24  joinscreen,product_review,product_review2,Scan...          13  ...              0      0            0                0               0           0\n",
       "2  254414          1    19   23                                                              3  ...              0      0            0                0               0           0\n",
       "3  234192          4    16   28  product_review,Home,product_review,ReferralCon...          40  ...              0      0            0                0               0           0\n",
       "4   51549          1    18   31  joinscreen,ScanPreview,VerifySSN,Home,SelectIn...          32  ...              0      0            0                0               0           0\n",
       "\n",
       "[5 rows x 68 columns]"
      ]
     },
     "execution_count": 23,
     "metadata": {},
     "output_type": "execute_result"
    }
   ],
   "source": [
    "df.head()"
   ]
  },
  {
   "cell_type": "code",
   "execution_count": 24,
   "id": "71ee2ef6",
   "metadata": {
    "execution": {
     "iopub.execute_input": "2023-03-11T08:01:33.283574Z",
     "iopub.status.busy": "2023-03-11T08:01:33.283238Z",
     "iopub.status.idle": "2023-03-11T08:01:33.384194Z",
     "shell.execute_reply": "2023-03-11T08:01:33.382152Z"
    },
    "papermill": {
     "duration": 0.120704,
     "end_time": "2023-03-11T08:01:33.386614",
     "exception": false,
     "start_time": "2023-03-11T08:01:33.265910",
     "status": "completed"
    },
    "tags": []
   },
   "outputs": [],
   "source": [
    "df['Other'] = df.screen_list.str.count(\",\")\n",
    "df = df.drop(columns=['screen_list'])"
   ]
  },
  {
   "cell_type": "code",
   "execution_count": 25,
   "id": "508824cd",
   "metadata": {
    "execution": {
     "iopub.execute_input": "2023-03-11T08:01:33.418986Z",
     "iopub.status.busy": "2023-03-11T08:01:33.417895Z",
     "iopub.status.idle": "2023-03-11T08:01:33.429765Z",
     "shell.execute_reply": "2023-03-11T08:01:33.427871Z"
    },
    "papermill": {
     "duration": 0.031431,
     "end_time": "2023-03-11T08:01:33.433089",
     "exception": false,
     "start_time": "2023-03-11T08:01:33.401658",
     "status": "completed"
    },
    "tags": []
   },
   "outputs": [
    {
     "data": {
      "text/plain": [
       "(50000, 68)"
      ]
     },
     "execution_count": 25,
     "metadata": {},
     "output_type": "execute_result"
    }
   ],
   "source": [
    "df.shape"
   ]
  },
  {
   "cell_type": "code",
   "execution_count": 26,
   "id": "e5fa8bf7",
   "metadata": {
    "execution": {
     "iopub.execute_input": "2023-03-11T08:01:33.467434Z",
     "iopub.status.busy": "2023-03-11T08:01:33.467078Z",
     "iopub.status.idle": "2023-03-11T08:01:33.495133Z",
     "shell.execute_reply": "2023-03-11T08:01:33.493382Z"
    },
    "papermill": {
     "duration": 0.048287,
     "end_time": "2023-03-11T08:01:33.497774",
     "exception": false,
     "start_time": "2023-03-11T08:01:33.449487",
     "status": "completed"
    },
    "tags": []
   },
   "outputs": [],
   "source": [
    "savings_screens = [\"Saving1\",\n",
    "                    \"Saving2\",\n",
    "                    \"Saving2Amount\",\n",
    "                    \"Saving4\",\n",
    "                    \"Saving5\",\n",
    "                    \"Saving6\",\n",
    "                    \"Saving7\",\n",
    "                    \"Saving8\",\n",
    "                    \"Saving9\",\n",
    "                    \"Saving10\"]\n",
    "df[\"SavingCount\"] = df[savings_screens].sum(axis=1)\n",
    "df = df.drop(columns=savings_screens)"
   ]
  },
  {
   "cell_type": "code",
   "execution_count": 27,
   "id": "37bea4d5",
   "metadata": {
    "execution": {
     "iopub.execute_input": "2023-03-11T08:01:33.531115Z",
     "iopub.status.busy": "2023-03-11T08:01:33.530701Z",
     "iopub.status.idle": "2023-03-11T08:01:33.553228Z",
     "shell.execute_reply": "2023-03-11T08:01:33.551970Z"
    },
    "papermill": {
     "duration": 0.042327,
     "end_time": "2023-03-11T08:01:33.555597",
     "exception": false,
     "start_time": "2023-03-11T08:01:33.513270",
     "status": "completed"
    },
    "tags": []
   },
   "outputs": [],
   "source": [
    "cm_screens = [\"Credit1\",\n",
    "               \"Credit2\",\n",
    "               \"Credit3\",\n",
    "               \"Credit3Container\",\n",
    "               \"Credit3Dashboard\"]\n",
    "df[\"CMCount\"] = df[cm_screens].sum(axis=1)\n",
    "df = df.drop(columns=cm_screens)"
   ]
  },
  {
   "cell_type": "code",
   "execution_count": 28,
   "id": "85343003",
   "metadata": {
    "execution": {
     "iopub.execute_input": "2023-03-11T08:01:33.588619Z",
     "iopub.status.busy": "2023-03-11T08:01:33.588283Z",
     "iopub.status.idle": "2023-03-11T08:01:33.608523Z",
     "shell.execute_reply": "2023-03-11T08:01:33.606977Z"
    },
    "papermill": {
     "duration": 0.040448,
     "end_time": "2023-03-11T08:01:33.611206",
     "exception": false,
     "start_time": "2023-03-11T08:01:33.570758",
     "status": "completed"
    },
    "tags": []
   },
   "outputs": [],
   "source": [
    "loan_screens = [\"Loan\",\n",
    "               \"Loan2\",\n",
    "               \"Loan3\",\n",
    "               \"Loan4\"]\n",
    "df[\"LoansCount\"] = df[loan_screens].sum(axis=1)\n",
    "df = df.drop(columns=loan_screens)"
   ]
  },
  {
   "cell_type": "code",
   "execution_count": 29,
   "id": "37c72c27",
   "metadata": {
    "execution": {
     "iopub.execute_input": "2023-03-11T08:01:33.644229Z",
     "iopub.status.busy": "2023-03-11T08:01:33.643873Z",
     "iopub.status.idle": "2023-03-11T08:01:33.659220Z",
     "shell.execute_reply": "2023-03-11T08:01:33.657892Z"
    },
    "papermill": {
     "duration": 0.035116,
     "end_time": "2023-03-11T08:01:33.662125",
     "exception": false,
     "start_time": "2023-03-11T08:01:33.627009",
     "status": "completed"
    },
    "tags": []
   },
   "outputs": [
    {
     "data": {
      "text/html": [
       "<div>\n",
       "<style scoped>\n",
       "    .dataframe tbody tr th:only-of-type {\n",
       "        vertical-align: middle;\n",
       "    }\n",
       "\n",
       "    .dataframe tbody tr th {\n",
       "        vertical-align: top;\n",
       "    }\n",
       "\n",
       "    .dataframe thead th {\n",
       "        text-align: right;\n",
       "    }\n",
       "</style>\n",
       "<table border=\"1\" class=\"dataframe\">\n",
       "  <thead>\n",
       "    <tr style=\"text-align: right;\">\n",
       "      <th></th>\n",
       "      <th>user</th>\n",
       "      <th>dayofweek</th>\n",
       "      <th>hour</th>\n",
       "      <th>age</th>\n",
       "      <th>numscreens</th>\n",
       "      <th>minigame</th>\n",
       "      <th>...</th>\n",
       "      <th>NetworkFailure</th>\n",
       "      <th>ListPicker</th>\n",
       "      <th>Other</th>\n",
       "      <th>SavingCount</th>\n",
       "      <th>CMCount</th>\n",
       "      <th>LoansCount</th>\n",
       "    </tr>\n",
       "  </thead>\n",
       "  <tbody>\n",
       "    <tr>\n",
       "      <th>0</th>\n",
       "      <td>235136</td>\n",
       "      <td>3</td>\n",
       "      <td>2</td>\n",
       "      <td>23</td>\n",
       "      <td>15</td>\n",
       "      <td>0</td>\n",
       "      <td>...</td>\n",
       "      <td>0</td>\n",
       "      <td>0</td>\n",
       "      <td>7</td>\n",
       "      <td>0</td>\n",
       "      <td>0</td>\n",
       "      <td>1</td>\n",
       "    </tr>\n",
       "    <tr>\n",
       "      <th>1</th>\n",
       "      <td>333588</td>\n",
       "      <td>6</td>\n",
       "      <td>1</td>\n",
       "      <td>24</td>\n",
       "      <td>13</td>\n",
       "      <td>0</td>\n",
       "      <td>...</td>\n",
       "      <td>0</td>\n",
       "      <td>0</td>\n",
       "      <td>5</td>\n",
       "      <td>0</td>\n",
       "      <td>0</td>\n",
       "      <td>1</td>\n",
       "    </tr>\n",
       "    <tr>\n",
       "      <th>2</th>\n",
       "      <td>254414</td>\n",
       "      <td>1</td>\n",
       "      <td>19</td>\n",
       "      <td>23</td>\n",
       "      <td>3</td>\n",
       "      <td>0</td>\n",
       "      <td>...</td>\n",
       "      <td>0</td>\n",
       "      <td>0</td>\n",
       "      <td>0</td>\n",
       "      <td>0</td>\n",
       "      <td>0</td>\n",
       "      <td>1</td>\n",
       "    </tr>\n",
       "    <tr>\n",
       "      <th>3</th>\n",
       "      <td>234192</td>\n",
       "      <td>4</td>\n",
       "      <td>16</td>\n",
       "      <td>28</td>\n",
       "      <td>40</td>\n",
       "      <td>0</td>\n",
       "      <td>...</td>\n",
       "      <td>0</td>\n",
       "      <td>0</td>\n",
       "      <td>6</td>\n",
       "      <td>0</td>\n",
       "      <td>3</td>\n",
       "      <td>1</td>\n",
       "    </tr>\n",
       "    <tr>\n",
       "      <th>4</th>\n",
       "      <td>51549</td>\n",
       "      <td>1</td>\n",
       "      <td>18</td>\n",
       "      <td>31</td>\n",
       "      <td>32</td>\n",
       "      <td>0</td>\n",
       "      <td>...</td>\n",
       "      <td>0</td>\n",
       "      <td>0</td>\n",
       "      <td>10</td>\n",
       "      <td>0</td>\n",
       "      <td>2</td>\n",
       "      <td>1</td>\n",
       "    </tr>\n",
       "  </tbody>\n",
       "</table>\n",
       "<p>5 rows × 52 columns</p>\n",
       "</div>"
      ],
      "text/plain": [
       "     user  dayofweek  hour  age  numscreens  minigame  ...  NetworkFailure  ListPicker  Other  SavingCount  CMCount  LoansCount\n",
       "0  235136          3     2   23          15         0  ...               0           0      7            0        0           1\n",
       "1  333588          6     1   24          13         0  ...               0           0      5            0        0           1\n",
       "2  254414          1    19   23           3         0  ...               0           0      0            0        0           1\n",
       "3  234192          4    16   28          40         0  ...               0           0      6            0        3           1\n",
       "4   51549          1    18   31          32         0  ...               0           0     10            0        2           1\n",
       "\n",
       "[5 rows x 52 columns]"
      ]
     },
     "execution_count": 29,
     "metadata": {},
     "output_type": "execute_result"
    }
   ],
   "source": [
    "df.head()"
   ]
  },
  {
   "cell_type": "code",
   "execution_count": 30,
   "id": "3fa64c0c",
   "metadata": {
    "execution": {
     "iopub.execute_input": "2023-03-11T08:01:33.695400Z",
     "iopub.status.busy": "2023-03-11T08:01:33.695075Z",
     "iopub.status.idle": "2023-03-11T08:01:33.702769Z",
     "shell.execute_reply": "2023-03-11T08:01:33.701375Z"
    },
    "papermill": {
     "duration": 0.027632,
     "end_time": "2023-03-11T08:01:33.705244",
     "exception": false,
     "start_time": "2023-03-11T08:01:33.677612",
     "status": "completed"
    },
    "tags": []
   },
   "outputs": [
    {
     "data": {
      "text/plain": [
       "Index(['user', 'dayofweek', 'hour', 'age', 'numscreens', 'minigame', 'used_premium_feature', 'enrolled', 'liked', 'location', 'Institutions', 'VerifyPhone', 'BankVerification', 'VerifyDateOfBirth', 'ProfilePage', 'VerifyCountry', 'Cycle', 'idscreen', 'CC1Category', 'Splash', 'CC1', 'RewardsContainer', 'EditProfile', 'Finances', 'CC3', 'Alerts', 'Leaderboard', 'VerifyMobile', 'VerifyHousing', 'RewardDetail', 'VerifyHousingAmount', 'ProfileMaritalStatus', 'ProfileChildren ', 'ProfileEducation', 'ProfileEducationMajor', 'Rewards', 'AccountView', 'VerifyAnnualIncome', 'VerifyIncomeType', 'ProfileJobTitle', 'Login', 'ProfileEmploymentLength', 'WebView', 'SecurityModal', 'ResendToken', 'TransactionList', 'NetworkFailure', 'ListPicker', 'Other', 'SavingCount', 'CMCount', 'LoansCount'], dtype='object')"
      ]
     },
     "execution_count": 30,
     "metadata": {},
     "output_type": "execute_result"
    }
   ],
   "source": [
    "df.columns"
   ]
  },
  {
   "cell_type": "code",
   "execution_count": 31,
   "id": "59e3c2af",
   "metadata": {
    "execution": {
     "iopub.execute_input": "2023-03-11T08:01:33.738826Z",
     "iopub.status.busy": "2023-03-11T08:01:33.738438Z",
     "iopub.status.idle": "2023-03-11T08:01:34.120825Z",
     "shell.execute_reply": "2023-03-11T08:01:34.119384Z"
    },
    "papermill": {
     "duration": 0.402722,
     "end_time": "2023-03-11T08:01:34.123400",
     "exception": false,
     "start_time": "2023-03-11T08:01:33.720678",
     "status": "completed"
    },
    "tags": []
   },
   "outputs": [],
   "source": [
    "df.to_csv('/kaggle/working/new_appdata10.csv', index = False)"
   ]
  },
  {
   "cell_type": "markdown",
   "id": "96321bb3",
   "metadata": {
    "papermill": {
     "duration": 0.016555,
     "end_time": "2023-03-11T08:01:34.156090",
     "exception": false,
     "start_time": "2023-03-11T08:01:34.139535",
     "status": "completed"
    },
    "tags": []
   },
   "source": [
    "# Training model"
   ]
  },
  {
   "cell_type": "code",
   "execution_count": 32,
   "id": "f1b381bf",
   "metadata": {
    "execution": {
     "iopub.execute_input": "2023-03-11T08:01:34.191267Z",
     "iopub.status.busy": "2023-03-11T08:01:34.190908Z",
     "iopub.status.idle": "2023-03-11T08:01:34.596563Z",
     "shell.execute_reply": "2023-03-11T08:01:34.595103Z"
    },
    "papermill": {
     "duration": 0.426217,
     "end_time": "2023-03-11T08:01:34.599003",
     "exception": false,
     "start_time": "2023-03-11T08:01:34.172786",
     "status": "completed"
    },
    "tags": []
   },
   "outputs": [],
   "source": [
    "from sklearn.preprocessing import StandardScaler\n",
    "from sklearn.model_selection import train_test_split\n",
    "from sklearn.linear_model import LogisticRegression\n",
    "from sklearn.metrics import confusion_matrix, accuracy_score, f1_score, precision_score, recall_score\n",
    "from sklearn.model_selection import cross_val_score\n",
    "from sklearn.model_selection import GridSearchCV"
   ]
  },
  {
   "cell_type": "code",
   "execution_count": 33,
   "id": "d7608396",
   "metadata": {
    "execution": {
     "iopub.execute_input": "2023-03-11T08:01:34.631946Z",
     "iopub.status.busy": "2023-03-11T08:01:34.631592Z",
     "iopub.status.idle": "2023-03-11T08:01:34.732061Z",
     "shell.execute_reply": "2023-03-11T08:01:34.731017Z"
    },
    "papermill": {
     "duration": 0.119815,
     "end_time": "2023-03-11T08:01:34.734286",
     "exception": false,
     "start_time": "2023-03-11T08:01:34.614471",
     "status": "completed"
    },
    "tags": []
   },
   "outputs": [
    {
     "data": {
      "text/plain": [
       "(50000, 52)"
      ]
     },
     "execution_count": 33,
     "metadata": {},
     "output_type": "execute_result"
    }
   ],
   "source": [
    "df_load = pd.read_csv(\"/kaggle/working/new_appdata10.csv\")\n",
    "df_load.shape"
   ]
  },
  {
   "cell_type": "code",
   "execution_count": 34,
   "id": "36027fa9",
   "metadata": {
    "execution": {
     "iopub.execute_input": "2023-03-11T08:01:34.768835Z",
     "iopub.status.busy": "2023-03-11T08:01:34.768477Z",
     "iopub.status.idle": "2023-03-11T08:01:34.776414Z",
     "shell.execute_reply": "2023-03-11T08:01:34.775553Z"
    },
    "papermill": {
     "duration": 0.027897,
     "end_time": "2023-03-11T08:01:34.778114",
     "exception": false,
     "start_time": "2023-03-11T08:01:34.750217",
     "status": "completed"
    },
    "tags": []
   },
   "outputs": [],
   "source": [
    "response = df_load[\"enrolled\"]\n",
    "df_load = df_load.drop(columns=[\"enrolled\"])"
   ]
  },
  {
   "cell_type": "code",
   "execution_count": 35,
   "id": "a6e65acd",
   "metadata": {
    "execution": {
     "iopub.execute_input": "2023-03-11T08:01:34.811855Z",
     "iopub.status.busy": "2023-03-11T08:01:34.811474Z",
     "iopub.status.idle": "2023-03-11T08:01:34.846092Z",
     "shell.execute_reply": "2023-03-11T08:01:34.844168Z"
    },
    "papermill": {
     "duration": 0.055249,
     "end_time": "2023-03-11T08:01:34.849611",
     "exception": false,
     "start_time": "2023-03-11T08:01:34.794362",
     "status": "completed"
    },
    "tags": []
   },
   "outputs": [
    {
     "name": "stdout",
     "output_type": "stream",
     "text": [
      "Shape of X_train:  (40000, 51)\n",
      "Shape of y_train:  (40000,)\n",
      "Shape of X_test:  (10000, 51)\n",
      "Shape of y_test:  (10000,)\n"
     ]
    }
   ],
   "source": [
    "X_train, X_test, y_train, y_test = train_test_split(df_load, response,\n",
    "                                                    test_size = 0.2,\n",
    "                                                    random_state = 0)\n",
    "print(\"Shape of X_train: \",X_train.shape)\n",
    "print(\"Shape of y_train: \",y_train.shape)\n",
    "print(\"Shape of X_test: \",X_test.shape)\n",
    "print(\"Shape of y_test: \",y_test.shape)"
   ]
  },
  {
   "cell_type": "code",
   "execution_count": 36,
   "id": "014ddab8",
   "metadata": {
    "execution": {
     "iopub.execute_input": "2023-03-11T08:01:34.884468Z",
     "iopub.status.busy": "2023-03-11T08:01:34.884131Z",
     "iopub.status.idle": "2023-03-11T08:01:34.897644Z",
     "shell.execute_reply": "2023-03-11T08:01:34.895906Z"
    },
    "papermill": {
     "duration": 0.033646,
     "end_time": "2023-03-11T08:01:34.900072",
     "exception": false,
     "start_time": "2023-03-11T08:01:34.866426",
     "status": "completed"
    },
    "tags": []
   },
   "outputs": [],
   "source": [
    "train_identity = X_train['user']\n",
    "X_train = X_train.drop(columns = ['user'])\n",
    "test_identity = X_test['user']\n",
    "X_test = X_test.drop(columns = ['user'])"
   ]
  },
  {
   "cell_type": "code",
   "execution_count": 37,
   "id": "b738d649",
   "metadata": {
    "execution": {
     "iopub.execute_input": "2023-03-11T08:01:34.936408Z",
     "iopub.status.busy": "2023-03-11T08:01:34.936088Z",
     "iopub.status.idle": "2023-03-11T08:01:34.953458Z",
     "shell.execute_reply": "2023-03-11T08:01:34.951398Z"
    },
    "papermill": {
     "duration": 0.039777,
     "end_time": "2023-03-11T08:01:34.957269",
     "exception": false,
     "start_time": "2023-03-11T08:01:34.917492",
     "status": "completed"
    },
    "tags": []
   },
   "outputs": [
    {
     "name": "stdout",
     "output_type": "stream",
     "text": [
      "<class 'pandas.core.frame.DataFrame'>\n",
      "Int64Index: 40000 entries, 20330 to 2732\n",
      "Data columns (total 50 columns):\n",
      " #   Column                   Non-Null Count  Dtype\n",
      "---  ------                   --------------  -----\n",
      " 0   dayofweek                40000 non-null  int64\n",
      " 1   hour                     40000 non-null  int64\n",
      " 2   age                      40000 non-null  int64\n",
      " 3   numscreens               40000 non-null  int64\n",
      " 4   minigame                 40000 non-null  int64\n",
      " 5   used_premium_feature     40000 non-null  int64\n",
      " 6   liked                    40000 non-null  int64\n",
      " 7   location                 40000 non-null  int64\n",
      " 8   Institutions             40000 non-null  int64\n",
      " 9   VerifyPhone              40000 non-null  int64\n",
      " 10  BankVerification         40000 non-null  int64\n",
      " 11  VerifyDateOfBirth        40000 non-null  int64\n",
      " 12  ProfilePage              40000 non-null  int64\n",
      " 13  VerifyCountry            40000 non-null  int64\n",
      " 14  Cycle                    40000 non-null  int64\n",
      " 15  idscreen                 40000 non-null  int64\n",
      " 16  CC1Category              40000 non-null  int64\n",
      " 17  Splash                   40000 non-null  int64\n",
      " 18  CC1                      40000 non-null  int64\n",
      " 19  RewardsContainer         40000 non-null  int64\n",
      " 20  EditProfile              40000 non-null  int64\n",
      " 21  Finances                 40000 non-null  int64\n",
      " 22  CC3                      40000 non-null  int64\n",
      " 23  Alerts                   40000 non-null  int64\n",
      " 24  Leaderboard              40000 non-null  int64\n",
      " 25  VerifyMobile             40000 non-null  int64\n",
      " 26  VerifyHousing            40000 non-null  int64\n",
      " 27  RewardDetail             40000 non-null  int64\n",
      " 28  VerifyHousingAmount      40000 non-null  int64\n",
      " 29  ProfileMaritalStatus     40000 non-null  int64\n",
      " 30  ProfileChildren          40000 non-null  int64\n",
      " 31  ProfileEducation         40000 non-null  int64\n",
      " 32  ProfileEducationMajor    40000 non-null  int64\n",
      " 33  Rewards                  40000 non-null  int64\n",
      " 34  AccountView              40000 non-null  int64\n",
      " 35  VerifyAnnualIncome       40000 non-null  int64\n",
      " 36  VerifyIncomeType         40000 non-null  int64\n",
      " 37  ProfileJobTitle          40000 non-null  int64\n",
      " 38  Login                    40000 non-null  int64\n",
      " 39  ProfileEmploymentLength  40000 non-null  int64\n",
      " 40  WebView                  40000 non-null  int64\n",
      " 41  SecurityModal            40000 non-null  int64\n",
      " 42  ResendToken              40000 non-null  int64\n",
      " 43  TransactionList          40000 non-null  int64\n",
      " 44  NetworkFailure           40000 non-null  int64\n",
      " 45  ListPicker               40000 non-null  int64\n",
      " 46  Other                    40000 non-null  int64\n",
      " 47  SavingCount              40000 non-null  int64\n",
      " 48  CMCount                  40000 non-null  int64\n",
      " 49  LoansCount               40000 non-null  int64\n",
      "dtypes: int64(50)\n",
      "memory usage: 15.6 MB\n"
     ]
    }
   ],
   "source": [
    "X_train.info()"
   ]
  },
  {
   "cell_type": "code",
   "execution_count": 38,
   "id": "9ca039c1",
   "metadata": {
    "execution": {
     "iopub.execute_input": "2023-03-11T08:01:34.992345Z",
     "iopub.status.busy": "2023-03-11T08:01:34.991989Z",
     "iopub.status.idle": "2023-03-11T08:01:35.028370Z",
     "shell.execute_reply": "2023-03-11T08:01:35.027297Z"
    },
    "papermill": {
     "duration": 0.056363,
     "end_time": "2023-03-11T08:01:35.030998",
     "exception": false,
     "start_time": "2023-03-11T08:01:34.974635",
     "status": "completed"
    },
    "tags": []
   },
   "outputs": [],
   "source": [
    "sc_X = StandardScaler()\n",
    "X_train_new = pd.DataFrame(sc_X.fit_transform(X_train)) #fit_transform return numpy array\n",
    "X_test_new = pd.DataFrame(sc_X.transform(X_test)) #fit_transform lose column name and index\n",
    "X_train_new.columns = X_train.columns.values\n",
    "X_test_new.columns = X_test.columns.values\n",
    "X_train_new.index = X_train.index.values\n",
    "X_test_new.index = X_test.index.values\n",
    "X_train = X_train_new\n",
    "X_test = X_test_new"
   ]
  },
  {
   "cell_type": "code",
   "execution_count": 39,
   "id": "86cc4fae",
   "metadata": {
    "execution": {
     "iopub.execute_input": "2023-03-11T08:01:35.064592Z",
     "iopub.status.busy": "2023-03-11T08:01:35.064243Z",
     "iopub.status.idle": "2023-03-11T08:01:35.081586Z",
     "shell.execute_reply": "2023-03-11T08:01:35.079698Z"
    },
    "papermill": {
     "duration": 0.036804,
     "end_time": "2023-03-11T08:01:35.084085",
     "exception": false,
     "start_time": "2023-03-11T08:01:35.047281",
     "status": "completed"
    },
    "tags": []
   },
   "outputs": [
    {
     "data": {
      "text/html": [
       "<div>\n",
       "<style scoped>\n",
       "    .dataframe tbody tr th:only-of-type {\n",
       "        vertical-align: middle;\n",
       "    }\n",
       "\n",
       "    .dataframe tbody tr th {\n",
       "        vertical-align: top;\n",
       "    }\n",
       "\n",
       "    .dataframe thead th {\n",
       "        text-align: right;\n",
       "    }\n",
       "</style>\n",
       "<table border=\"1\" class=\"dataframe\">\n",
       "  <thead>\n",
       "    <tr style=\"text-align: right;\">\n",
       "      <th></th>\n",
       "      <th>dayofweek</th>\n",
       "      <th>hour</th>\n",
       "      <th>age</th>\n",
       "      <th>numscreens</th>\n",
       "      <th>minigame</th>\n",
       "      <th>used_premium_feature</th>\n",
       "      <th>...</th>\n",
       "      <th>NetworkFailure</th>\n",
       "      <th>ListPicker</th>\n",
       "      <th>Other</th>\n",
       "      <th>SavingCount</th>\n",
       "      <th>CMCount</th>\n",
       "      <th>LoansCount</th>\n",
       "    </tr>\n",
       "  </thead>\n",
       "  <tbody>\n",
       "    <tr>\n",
       "      <th>20330</th>\n",
       "      <td>-0.504961</td>\n",
       "      <td>1.000837</td>\n",
       "      <td>0.025525</td>\n",
       "      <td>-1.026726</td>\n",
       "      <td>-0.346830</td>\n",
       "      <td>2.186018</td>\n",
       "      <td>...</td>\n",
       "      <td>-0.091207</td>\n",
       "      <td>-0.087221</td>\n",
       "      <td>-1.147303</td>\n",
       "      <td>-0.260877</td>\n",
       "      <td>-0.763372</td>\n",
       "      <td>1.785389</td>\n",
       "    </tr>\n",
       "    <tr>\n",
       "      <th>17532</th>\n",
       "      <td>-0.997389</td>\n",
       "      <td>1.135280</td>\n",
       "      <td>-0.898034</td>\n",
       "      <td>1.328829</td>\n",
       "      <td>2.883254</td>\n",
       "      <td>-0.457453</td>\n",
       "      <td>...</td>\n",
       "      <td>-0.091207</td>\n",
       "      <td>-0.087221</td>\n",
       "      <td>1.839740</td>\n",
       "      <td>-0.260877</td>\n",
       "      <td>0.057524</td>\n",
       "      <td>0.309800</td>\n",
       "    </tr>\n",
       "    <tr>\n",
       "      <th>45819</th>\n",
       "      <td>-1.489818</td>\n",
       "      <td>-1.150250</td>\n",
       "      <td>-0.528611</td>\n",
       "      <td>4.066366</td>\n",
       "      <td>2.883254</td>\n",
       "      <td>-0.457453</td>\n",
       "      <td>...</td>\n",
       "      <td>-0.091207</td>\n",
       "      <td>-0.087221</td>\n",
       "      <td>1.025092</td>\n",
       "      <td>-0.260877</td>\n",
       "      <td>0.878421</td>\n",
       "      <td>1.785389</td>\n",
       "    </tr>\n",
       "    <tr>\n",
       "      <th>34807</th>\n",
       "      <td>0.479896</td>\n",
       "      <td>0.059736</td>\n",
       "      <td>-0.620967</td>\n",
       "      <td>0.182883</td>\n",
       "      <td>2.883254</td>\n",
       "      <td>-0.457453</td>\n",
       "      <td>...</td>\n",
       "      <td>-0.091207</td>\n",
       "      <td>-0.087221</td>\n",
       "      <td>1.025092</td>\n",
       "      <td>-0.260877</td>\n",
       "      <td>-0.763372</td>\n",
       "      <td>0.309800</td>\n",
       "    </tr>\n",
       "    <tr>\n",
       "      <th>31888</th>\n",
       "      <td>-0.012532</td>\n",
       "      <td>0.463065</td>\n",
       "      <td>1.687932</td>\n",
       "      <td>-0.644744</td>\n",
       "      <td>-0.346830</td>\n",
       "      <td>-0.457453</td>\n",
       "      <td>...</td>\n",
       "      <td>-0.091207</td>\n",
       "      <td>-0.087221</td>\n",
       "      <td>-0.875753</td>\n",
       "      <td>-0.260877</td>\n",
       "      <td>0.878421</td>\n",
       "      <td>-1.165789</td>\n",
       "    </tr>\n",
       "  </tbody>\n",
       "</table>\n",
       "<p>5 rows × 50 columns</p>\n",
       "</div>"
      ],
      "text/plain": [
       "       dayofweek      hour       age  numscreens  minigame  used_premium_feature  ...  NetworkFailure  ListPicker     Other  SavingCount   CMCount  LoansCount\n",
       "20330  -0.504961  1.000837  0.025525   -1.026726 -0.346830              2.186018  ...       -0.091207   -0.087221 -1.147303    -0.260877 -0.763372    1.785389\n",
       "17532  -0.997389  1.135280 -0.898034    1.328829  2.883254             -0.457453  ...       -0.091207   -0.087221  1.839740    -0.260877  0.057524    0.309800\n",
       "45819  -1.489818 -1.150250 -0.528611    4.066366  2.883254             -0.457453  ...       -0.091207   -0.087221  1.025092    -0.260877  0.878421    1.785389\n",
       "34807   0.479896  0.059736 -0.620967    0.182883  2.883254             -0.457453  ...       -0.091207   -0.087221  1.025092    -0.260877 -0.763372    0.309800\n",
       "31888  -0.012532  0.463065  1.687932   -0.644744 -0.346830             -0.457453  ...       -0.091207   -0.087221 -0.875753    -0.260877  0.878421   -1.165789\n",
       "\n",
       "[5 rows x 50 columns]"
      ]
     },
     "execution_count": 39,
     "metadata": {},
     "output_type": "execute_result"
    }
   ],
   "source": [
    "X_train.head()"
   ]
  },
  {
   "cell_type": "code",
   "execution_count": 40,
   "id": "ab305513",
   "metadata": {
    "execution": {
     "iopub.execute_input": "2023-03-11T08:01:35.118184Z",
     "iopub.status.busy": "2023-03-11T08:01:35.117782Z",
     "iopub.status.idle": "2023-03-11T08:01:35.305826Z",
     "shell.execute_reply": "2023-03-11T08:01:35.305012Z"
    },
    "papermill": {
     "duration": 0.207556,
     "end_time": "2023-03-11T08:01:35.307936",
     "exception": false,
     "start_time": "2023-03-11T08:01:35.100380",
     "status": "completed"
    },
    "tags": []
   },
   "outputs": [
    {
     "data": {
      "text/plain": [
       "LogisticRegression(random_state=0)"
      ]
     },
     "execution_count": 40,
     "metadata": {},
     "output_type": "execute_result"
    }
   ],
   "source": [
    "classifier = LogisticRegression(random_state = 0, penalty = 'l2')\n",
    "classifier.fit(X_train, y_train)"
   ]
  },
  {
   "cell_type": "code",
   "execution_count": 41,
   "id": "26a41eeb",
   "metadata": {
    "execution": {
     "iopub.execute_input": "2023-03-11T08:01:35.356654Z",
     "iopub.status.busy": "2023-03-11T08:01:35.356243Z",
     "iopub.status.idle": "2023-03-11T08:01:35.365743Z",
     "shell.execute_reply": "2023-03-11T08:01:35.364912Z"
    },
    "papermill": {
     "duration": 0.037602,
     "end_time": "2023-03-11T08:01:35.367956",
     "exception": false,
     "start_time": "2023-03-11T08:01:35.330354",
     "status": "completed"
    },
    "tags": []
   },
   "outputs": [
    {
     "data": {
      "text/plain": [
       "array([1, 1, 0, ..., 0, 1, 1])"
      ]
     },
     "execution_count": 41,
     "metadata": {},
     "output_type": "execute_result"
    }
   ],
   "source": [
    "y_pred = classifier.predict(X_test)\n",
    "y_pred"
   ]
  },
  {
   "cell_type": "code",
   "execution_count": 42,
   "id": "2ea048ec",
   "metadata": {
    "execution": {
     "iopub.execute_input": "2023-03-11T08:01:35.417073Z",
     "iopub.status.busy": "2023-03-11T08:01:35.416677Z",
     "iopub.status.idle": "2023-03-11T08:01:35.434460Z",
     "shell.execute_reply": "2023-03-11T08:01:35.433607Z"
    },
    "papermill": {
     "duration": 0.04519,
     "end_time": "2023-03-11T08:01:35.436552",
     "exception": false,
     "start_time": "2023-03-11T08:01:35.391362",
     "status": "completed"
    },
    "tags": []
   },
   "outputs": [
    {
     "data": {
      "text/html": [
       "<div>\n",
       "<style scoped>\n",
       "    .dataframe tbody tr th:only-of-type {\n",
       "        vertical-align: middle;\n",
       "    }\n",
       "\n",
       "    .dataframe tbody tr th {\n",
       "        vertical-align: top;\n",
       "    }\n",
       "\n",
       "    .dataframe thead th {\n",
       "        text-align: right;\n",
       "    }\n",
       "</style>\n",
       "<table border=\"1\" class=\"dataframe\">\n",
       "  <thead>\n",
       "    <tr style=\"text-align: right;\">\n",
       "      <th></th>\n",
       "      <th>user</th>\n",
       "      <th>enrolled</th>\n",
       "      <th>predicted_results</th>\n",
       "    </tr>\n",
       "  </thead>\n",
       "  <tbody>\n",
       "    <tr>\n",
       "      <th>0</th>\n",
       "      <td>239786</td>\n",
       "      <td>1</td>\n",
       "      <td>1</td>\n",
       "    </tr>\n",
       "    <tr>\n",
       "      <th>1</th>\n",
       "      <td>279644</td>\n",
       "      <td>1</td>\n",
       "      <td>1</td>\n",
       "    </tr>\n",
       "    <tr>\n",
       "      <th>2</th>\n",
       "      <td>98290</td>\n",
       "      <td>0</td>\n",
       "      <td>0</td>\n",
       "    </tr>\n",
       "    <tr>\n",
       "      <th>3</th>\n",
       "      <td>170150</td>\n",
       "      <td>1</td>\n",
       "      <td>1</td>\n",
       "    </tr>\n",
       "    <tr>\n",
       "      <th>4</th>\n",
       "      <td>237568</td>\n",
       "      <td>1</td>\n",
       "      <td>1</td>\n",
       "    </tr>\n",
       "    <tr>\n",
       "      <th>...</th>\n",
       "      <td>...</td>\n",
       "      <td>...</td>\n",
       "      <td>...</td>\n",
       "    </tr>\n",
       "    <tr>\n",
       "      <th>9995</th>\n",
       "      <td>143036</td>\n",
       "      <td>1</td>\n",
       "      <td>0</td>\n",
       "    </tr>\n",
       "    <tr>\n",
       "      <th>9996</th>\n",
       "      <td>91158</td>\n",
       "      <td>1</td>\n",
       "      <td>1</td>\n",
       "    </tr>\n",
       "    <tr>\n",
       "      <th>9997</th>\n",
       "      <td>248318</td>\n",
       "      <td>0</td>\n",
       "      <td>0</td>\n",
       "    </tr>\n",
       "    <tr>\n",
       "      <th>9998</th>\n",
       "      <td>142418</td>\n",
       "      <td>1</td>\n",
       "      <td>1</td>\n",
       "    </tr>\n",
       "    <tr>\n",
       "      <th>9999</th>\n",
       "      <td>279355</td>\n",
       "      <td>1</td>\n",
       "      <td>1</td>\n",
       "    </tr>\n",
       "  </tbody>\n",
       "</table>\n",
       "<p>10000 rows × 3 columns</p>\n",
       "</div>"
      ],
      "text/plain": [
       "        user  enrolled  predicted_results\n",
       "0     239786         1                  1\n",
       "1     279644         1                  1\n",
       "2      98290         0                  0\n",
       "3     170150         1                  1\n",
       "4     237568         1                  1\n",
       "...      ...       ...                ...\n",
       "9995  143036         1                  0\n",
       "9996   91158         1                  1\n",
       "9997  248318         0                  0\n",
       "9998  142418         1                  1\n",
       "9999  279355         1                  1\n",
       "\n",
       "[10000 rows x 3 columns]"
      ]
     },
     "execution_count": 42,
     "metadata": {},
     "output_type": "execute_result"
    }
   ],
   "source": [
    "final_results = pd.concat([y_test, test_identity], axis = 1).dropna()\n",
    "final_results['predicted_results'] = y_pred\n",
    "final_results[['user', 'enrolled', 'predicted_results']].reset_index(drop=True)"
   ]
  },
  {
   "cell_type": "code",
   "execution_count": 43,
   "id": "0c4e20e6",
   "metadata": {
    "execution": {
     "iopub.execute_input": "2023-03-11T08:01:35.484545Z",
     "iopub.status.busy": "2023-03-11T08:01:35.484235Z",
     "iopub.status.idle": "2023-03-11T08:01:35.509130Z",
     "shell.execute_reply": "2023-03-11T08:01:35.507351Z"
    },
    "papermill": {
     "duration": 0.053935,
     "end_time": "2023-03-11T08:01:35.513331",
     "exception": false,
     "start_time": "2023-03-11T08:01:35.459396",
     "status": "completed"
    },
    "tags": []
   },
   "outputs": [
    {
     "name": "stdout",
     "output_type": "stream",
     "text": [
      "accuracy_socre:  76.79 %\n",
      "precision_score:  76.15894039735099 %\n",
      "recall_score:  77.00892857142857 %\n",
      "f1_score:  76.58157602663707 %\n"
     ]
    }
   ],
   "source": [
    "cm = confusion_matrix(y_test, y_pred)\n",
    "print(\"accuracy_socre: \",accuracy_score(y_test, y_pred)*100,'%' )\n",
    "print(\"precision_score: \",precision_score(y_test, y_pred)*100,'%') \n",
    "print(\"recall_score: \",recall_score(y_test, y_pred)*100,'%') \n",
    "print(\"f1_score: \",f1_score(y_test, y_pred)*100,'%')"
   ]
  },
  {
   "cell_type": "code",
   "execution_count": 44,
   "id": "3f0259d9",
   "metadata": {
    "execution": {
     "iopub.execute_input": "2023-03-11T08:01:35.551030Z",
     "iopub.status.busy": "2023-03-11T08:01:35.549431Z",
     "iopub.status.idle": "2023-03-11T08:01:35.750504Z",
     "shell.execute_reply": "2023-03-11T08:01:35.749324Z"
    },
    "papermill": {
     "duration": 0.221769,
     "end_time": "2023-03-11T08:01:35.752867",
     "exception": false,
     "start_time": "2023-03-11T08:01:35.531098",
     "status": "completed"
    },
    "tags": []
   },
   "outputs": [
    {
     "name": "stdout",
     "output_type": "stream",
     "text": [
      "Test Data Accuracy: 0.7679\n"
     ]
    },
    {
     "data": {
      "image/png": "[encoded data removed]",
      "text/plain": [
       "<Figure size 600x400 with 2 Axes>"
      ]
     },
     "metadata": {},
     "output_type": "display_data"
    }
   ],
   "source": [
    "df_cm = pd.DataFrame(cm, index = (0, 1), columns = (0, 1))\n",
    "plt.figure(figsize = (6, 4))\n",
    "sn.set(font_scale=1.2)\n",
    "sn.heatmap(df_cm, annot=True, fmt='g')\n",
    "print(\"Test Data Accuracy: %0.4f\" % accuracy_score(y_test, y_pred))"
   ]
  },
  {
   "cell_type": "code",
   "execution_count": 45,
   "id": "e87a136c",
   "metadata": {
    "execution": {
     "iopub.execute_input": "2023-03-11T08:01:35.790362Z",
     "iopub.status.busy": "2023-03-11T08:01:35.789081Z",
     "iopub.status.idle": "2023-03-11T08:01:37.448431Z",
     "shell.execute_reply": "2023-03-11T08:01:37.447519Z"
    },
    "papermill": {
     "duration": 1.680935,
     "end_time": "2023-03-11T08:01:37.451135",
     "exception": false,
     "start_time": "2023-03-11T08:01:35.770200",
     "status": "completed"
    },
    "tags": []
   },
   "outputs": [],
   "source": [
    "accuracies = cross_val_score(estimator= classifier, X= X_train, y = y_train, cv = 10)"
   ]
  },
  {
   "cell_type": "code",
   "execution_count": 46,
   "id": "78c363ea",
   "metadata": {
    "execution": {
     "iopub.execute_input": "2023-03-11T08:01:37.499467Z",
     "iopub.status.busy": "2023-03-11T08:01:37.498871Z",
     "iopub.status.idle": "2023-03-11T08:01:37.504779Z",
     "shell.execute_reply": "2023-03-11T08:01:37.503979Z"
    },
    "papermill": {
     "duration": 0.03519,
     "end_time": "2023-03-11T08:01:37.509895",
     "exception": false,
     "start_time": "2023-03-11T08:01:37.474705",
     "status": "completed"
    },
    "tags": []
   },
   "outputs": [
    {
     "name": "stdout",
     "output_type": "stream",
     "text": [
      "Cross Validation Accuracy: 0.767 (+/- 0.009)\n"
     ]
    }
   ],
   "source": [
    "print(\"Cross Validation Accuracy: %0.3f (+/- %0.3f)\" % (accuracies.mean(), accuracies.std() * 2))"
   ]
  },
  {
   "cell_type": "code",
   "execution_count": null,
   "id": "03b6806b",
   "metadata": {
    "papermill": {
     "duration": 0.023306,
     "end_time": "2023-03-11T08:01:37.556752",
     "exception": false,
     "start_time": "2023-03-11T08:01:37.533446",
     "status": "completed"
    },
    "tags": []
   },
   "outputs": [],
   "source": []
  },
  {
   "cell_type": "code",
   "execution_count": null,
   "id": "ae621c87",
   "metadata": {
    "papermill": {
     "duration": 0.0175,
     "end_time": "2023-03-11T08:01:37.596409",
     "exception": false,
     "start_time": "2023-03-11T08:01:37.578909",
     "status": "completed"
    },
    "tags": []
   },
   "outputs": [],
   "source": []
  },
  {
   "cell_type": "code",
   "execution_count": null,
   "id": "6ab1404c",
   "metadata": {
    "papermill": {
     "duration": 0.016906,
     "end_time": "2023-03-11T08:01:37.630847",
     "exception": false,
     "start_time": "2023-03-11T08:01:37.613941",
     "status": "completed"
    },
    "tags": []
   },
   "outputs": [],
   "source": []
  },
  {
   "cell_type": "code",
   "execution_count": null,
   "id": "d202d479",
   "metadata": {
    "papermill": {
     "duration": 0.016727,
     "end_time": "2023-03-11T08:01:37.664843",
     "exception": false,
     "start_time": "2023-03-11T08:01:37.648116",
     "status": "completed"
    },
    "tags": []
   },
   "outputs": [],
   "source": []
  },
  {
   "cell_type": "code",
   "execution_count": null,
   "id": "49ff5b11",
   "metadata": {
    "papermill": {
     "duration": 0.016392,
     "end_time": "2023-03-11T08:01:37.697936",
     "exception": false,
     "start_time": "2023-03-11T08:01:37.681544",
     "status": "completed"
    },
    "tags": []
   },
   "outputs": [],
   "source": []
  }
 ],
 "metadata": {
  "kernelspec": {
   "display_name": "Python 3",
   "language": "python",
   "name": "python3"
  },
  "language_info": {
   "codemirror_mode": {
    "name": "ipython",
    "version": 3
   },
   "file_extension": ".py",
   "mimetype": "text/x-python",
   "name": "python",
   "nbconvert_exporter": "python",
   "pygments_lexer": "ipython3",
   "version": "3.7.12"
  },
  "papermill": {
   "default_parameters": {},
   "duration": 31.134388,
   "end_time": "2023-03-11T08:01:38.537099",
   "environment_variables": {},
   "exception": null,
   "input_path": "__notebook__.ipynb",
   "output_path": "__notebook__.ipynb",
   "parameters": {},
   "start_time": "2023-03-11T08:01:07.402711",
   "version": "2.4.0"
  }
 },
 "nbformat": 4,
 "nbformat_minor": 5
}
